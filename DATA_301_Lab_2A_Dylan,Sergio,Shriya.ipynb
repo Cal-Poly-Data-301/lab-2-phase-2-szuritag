{
  "nbformat": 4,
  "nbformat_minor": 0,
  "metadata": {
    "kernelspec": {
      "display_name": "Python 3",
      "language": "python",
      "name": "python3"
    },
    "language_info": {
      "codemirror_mode": {
        "name": "ipython",
        "version": 3
      },
      "file_extension": ".py",
      "mimetype": "text/x-python",
      "name": "python",
      "nbconvert_exporter": "python",
      "pygments_lexer": "ipython3",
      "version": "3.6.8"
    },
    "colab": {
      "name": "DATA 301 Lab 2A - Dylan Cho",
      "provenance": [],
      "collapsed_sections": [],
      "include_colab_link": true
    }
  },
  "cells": [
    {
      "cell_type": "markdown",
      "metadata": {
        "id": "view-in-github",
        "colab_type": "text"
      },
      "source": [
        "<a href=\"https://colab.research.google.com/github/Cal-Poly-Data-301/lab-2-phase-2-szuritag/blob/main/DATA_301_Lab_2A_Dylan_Cho.ipynb\" target=\"_parent\"><img src=\"https://colab.research.google.com/assets/colab-badge.svg\" alt=\"Open In Colab\"/></a>"
      ]
    },
    {
      "cell_type": "markdown",
      "metadata": {
        "id": "TWcmdY-v6AD1"
      },
      "source": [
        "# Shark Tank\n",
        "\n",
        "_Shark Tank_ is a reality TV show. Contestants present their idea for a company to a panel of investors (a.k.a. \"sharks\"), who then decide whether or not to invest in that company.  The investors give a certain amount of money in exchange for a percentage stake in the company (\"equity\"). If you are not familiar with the show, you may want to watch part of an episode [here](http://abc.go.com/shows/shark-tank) to get a sense of how it works.\n",
        "\n",
        "The data that you will examine in this lab contains data about all contestants from the first 6 seasons of the show, including:\n",
        "- the name and industry of the proposed company\n",
        "- whether or not it was funded (i.e., the \"Deal\" column)\n",
        "- which sharks chose to invest in the venture (N.B. There are 7 regular sharks, not including \"Guest\". Each shark has a column in the data set, labeled by their last name.)\n",
        "- if funded, the amount of money the sharks put in and the percentage equity they got in return\n",
        "\n",
        "To earn full credit on this lab, you should:\n",
        "- use built-in `pandas` methods (like `.sum()` and `.max()`) instead of writing a for loop over a `DataFrame` or `Series`\n",
        "- use the split-apply-combine pattern wherever possible\n",
        "\n",
        "Of course, if you can't think of a vectorized solution, a `for` loop is still better than no solution at all!"
      ]
    },
    {
      "cell_type": "code",
      "metadata": {
        "id": "xWVgjFTV6AD4"
      },
      "source": [
        "import pandas as pd"
      ],
      "execution_count": null,
      "outputs": []
    },
    {
      "cell_type": "markdown",
      "metadata": {
        "id": "PA8nrH5u6AD7"
      },
      "source": [
        "## Question 0. Getting and Cleaning the Data"
      ]
    },
    {
      "cell_type": "markdown",
      "metadata": {
        "id": "jZkcwwrJ6AD7"
      },
      "source": [
        "The data is stored in the CSV file `https://dlsun.github.io/pods/data/sharktank.csv`. Read in the data into a Pandas `DataFrame`.\n",
        "\n"
      ]
    },
    {
      "cell_type": "code",
      "metadata": {
        "id": "4GvnXJRT6AD8"
      },
      "source": [
        "df_shark = pd.read_csv(\"https://dlsun.github.io/pods/data/sharktank.csv\")"
      ],
      "execution_count": null,
      "outputs": []
    },
    {
      "cell_type": "markdown",
      "metadata": {
        "id": "OvCrC2ho6AEA"
      },
      "source": [
        "There is one column for each of the sharks. A 1 indicates that they chose to invest in that company, while a missing value indicates that they did not choose to invest in that company. Notice that these missing values show up as NaNs when we read in the data. Fill in these missing values with zeros. Other columns may also contain NaNs; be careful not to fill those columns with zeros, or you may end up with strange results down the line."
      ]
    },
    {
      "cell_type": "code",
      "metadata": {
        "id": "wtIkax6c6AEB",
        "colab": {
          "base_uri": "https://localhost:8080/",
          "height": 206
        },
        "outputId": "0117a4b2-6c40-4bee-c4ac-a6ec0b3d6d87"
      },
      "source": [
        "def replace_na(c):\n",
        "  if pd.isna(c):\n",
        "    return 0\n",
        "  return c\n",
        "\n",
        "sharklist = [\"Corcoran\", \"Cuban\", \"Greiner\", \"Herjavec\", \"John\", \"O'Leary\", \"Harrington\", \"Guest\"]\n",
        "for shark in sharklist:\n",
        "  df_shark[shark] = df_shark[shark].map(replace_na)\n",
        "\n",
        "df_shark.head()"
      ],
      "execution_count": null,
      "outputs": [
        {
          "output_type": "execute_result",
          "data": {
            "text/html": [
              "\n",
              "  <div id=\"df-1aedfe1e-1790-4c67-a642-874e50fc62a9\">\n",
              "    <div class=\"colab-df-container\">\n",
              "      <div>\n",
              "<style scoped>\n",
              "    .dataframe tbody tr th:only-of-type {\n",
              "        vertical-align: middle;\n",
              "    }\n",
              "\n",
              "    .dataframe tbody tr th {\n",
              "        vertical-align: top;\n",
              "    }\n",
              "\n",
              "    .dataframe thead th {\n",
              "        text-align: right;\n",
              "    }\n",
              "</style>\n",
              "<table border=\"1\" class=\"dataframe\">\n",
              "  <thead>\n",
              "    <tr style=\"text-align: right;\">\n",
              "      <th></th>\n",
              "      <th>Season</th>\n",
              "      <th>No. in series</th>\n",
              "      <th>Company</th>\n",
              "      <th>Deal</th>\n",
              "      <th>Industry</th>\n",
              "      <th>Entrepreneur Gender</th>\n",
              "      <th>Amount</th>\n",
              "      <th>Equity</th>\n",
              "      <th>Corcoran</th>\n",
              "      <th>Cuban</th>\n",
              "      <th>Greiner</th>\n",
              "      <th>Herjavec</th>\n",
              "      <th>John</th>\n",
              "      <th>O'Leary</th>\n",
              "      <th>Harrington</th>\n",
              "      <th>Guest</th>\n",
              "      <th>Details / Notes</th>\n",
              "    </tr>\n",
              "  </thead>\n",
              "  <tbody>\n",
              "    <tr>\n",
              "      <th>0</th>\n",
              "      <td>1.0</td>\n",
              "      <td>1.0</td>\n",
              "      <td>Ava the Elephant</td>\n",
              "      <td>Yes</td>\n",
              "      <td>Healthcare</td>\n",
              "      <td>Female</td>\n",
              "      <td>$50,000</td>\n",
              "      <td>55%</td>\n",
              "      <td>1.0</td>\n",
              "      <td>0.0</td>\n",
              "      <td>0.0</td>\n",
              "      <td>0.0</td>\n",
              "      <td>0.0</td>\n",
              "      <td>0.0</td>\n",
              "      <td>0.0</td>\n",
              "      <td>0.0</td>\n",
              "      <td>NaN</td>\n",
              "    </tr>\n",
              "    <tr>\n",
              "      <th>1</th>\n",
              "      <td>1.0</td>\n",
              "      <td>1.0</td>\n",
              "      <td>Mr. Tod's Pie Factory</td>\n",
              "      <td>Yes</td>\n",
              "      <td>Food and Beverage</td>\n",
              "      <td>Male</td>\n",
              "      <td>$460,000</td>\n",
              "      <td>50%</td>\n",
              "      <td>1.0</td>\n",
              "      <td>0.0</td>\n",
              "      <td>0.0</td>\n",
              "      <td>0.0</td>\n",
              "      <td>1.0</td>\n",
              "      <td>0.0</td>\n",
              "      <td>0.0</td>\n",
              "      <td>0.0</td>\n",
              "      <td>NaN</td>\n",
              "    </tr>\n",
              "    <tr>\n",
              "      <th>2</th>\n",
              "      <td>1.0</td>\n",
              "      <td>1.0</td>\n",
              "      <td>Wispots</td>\n",
              "      <td>No</td>\n",
              "      <td>Business Services</td>\n",
              "      <td>Male</td>\n",
              "      <td>NaN</td>\n",
              "      <td>NaN</td>\n",
              "      <td>0.0</td>\n",
              "      <td>0.0</td>\n",
              "      <td>0.0</td>\n",
              "      <td>0.0</td>\n",
              "      <td>0.0</td>\n",
              "      <td>0.0</td>\n",
              "      <td>0.0</td>\n",
              "      <td>0.0</td>\n",
              "      <td>NaN</td>\n",
              "    </tr>\n",
              "    <tr>\n",
              "      <th>3</th>\n",
              "      <td>1.0</td>\n",
              "      <td>1.0</td>\n",
              "      <td>College Foxes Packing Boxes</td>\n",
              "      <td>No</td>\n",
              "      <td>Lifestyle / Home</td>\n",
              "      <td>Male</td>\n",
              "      <td>NaN</td>\n",
              "      <td>NaN</td>\n",
              "      <td>0.0</td>\n",
              "      <td>0.0</td>\n",
              "      <td>0.0</td>\n",
              "      <td>0.0</td>\n",
              "      <td>0.0</td>\n",
              "      <td>0.0</td>\n",
              "      <td>0.0</td>\n",
              "      <td>0.0</td>\n",
              "      <td>NaN</td>\n",
              "    </tr>\n",
              "    <tr>\n",
              "      <th>4</th>\n",
              "      <td>1.0</td>\n",
              "      <td>1.0</td>\n",
              "      <td>Ionic Ear</td>\n",
              "      <td>No</td>\n",
              "      <td>Uncertain / Other</td>\n",
              "      <td>Male</td>\n",
              "      <td>NaN</td>\n",
              "      <td>NaN</td>\n",
              "      <td>0.0</td>\n",
              "      <td>0.0</td>\n",
              "      <td>0.0</td>\n",
              "      <td>0.0</td>\n",
              "      <td>0.0</td>\n",
              "      <td>0.0</td>\n",
              "      <td>0.0</td>\n",
              "      <td>0.0</td>\n",
              "      <td>NaN</td>\n",
              "    </tr>\n",
              "  </tbody>\n",
              "</table>\n",
              "</div>\n",
              "      <button class=\"colab-df-convert\" onclick=\"convertToInteractive('df-1aedfe1e-1790-4c67-a642-874e50fc62a9')\"\n",
              "              title=\"Convert this dataframe to an interactive table.\"\n",
              "              style=\"display:none;\">\n",
              "        \n",
              "  <svg xmlns=\"http://www.w3.org/2000/svg\" height=\"24px\"viewBox=\"0 0 24 24\"\n",
              "       width=\"24px\">\n",
              "    <path d=\"M0 0h24v24H0V0z\" fill=\"none\"/>\n",
              "    <path d=\"M18.56 5.44l.94 2.06.94-2.06 2.06-.94-2.06-.94-.94-2.06-.94 2.06-2.06.94zm-11 1L8.5 8.5l.94-2.06 2.06-.94-2.06-.94L8.5 2.5l-.94 2.06-2.06.94zm10 10l.94 2.06.94-2.06 2.06-.94-2.06-.94-.94-2.06-.94 2.06-2.06.94z\"/><path d=\"M17.41 7.96l-1.37-1.37c-.4-.4-.92-.59-1.43-.59-.52 0-1.04.2-1.43.59L10.3 9.45l-7.72 7.72c-.78.78-.78 2.05 0 2.83L4 21.41c.39.39.9.59 1.41.59.51 0 1.02-.2 1.41-.59l7.78-7.78 2.81-2.81c.8-.78.8-2.07 0-2.86zM5.41 20L4 18.59l7.72-7.72 1.47 1.35L5.41 20z\"/>\n",
              "  </svg>\n",
              "      </button>\n",
              "      \n",
              "  <style>\n",
              "    .colab-df-container {\n",
              "      display:flex;\n",
              "      flex-wrap:wrap;\n",
              "      gap: 12px;\n",
              "    }\n",
              "\n",
              "    .colab-df-convert {\n",
              "      background-color: #E8F0FE;\n",
              "      border: none;\n",
              "      border-radius: 50%;\n",
              "      cursor: pointer;\n",
              "      display: none;\n",
              "      fill: #1967D2;\n",
              "      height: 32px;\n",
              "      padding: 0 0 0 0;\n",
              "      width: 32px;\n",
              "    }\n",
              "\n",
              "    .colab-df-convert:hover {\n",
              "      background-color: #E2EBFA;\n",
              "      box-shadow: 0px 1px 2px rgba(60, 64, 67, 0.3), 0px 1px 3px 1px rgba(60, 64, 67, 0.15);\n",
              "      fill: #174EA6;\n",
              "    }\n",
              "\n",
              "    [theme=dark] .colab-df-convert {\n",
              "      background-color: #3B4455;\n",
              "      fill: #D2E3FC;\n",
              "    }\n",
              "\n",
              "    [theme=dark] .colab-df-convert:hover {\n",
              "      background-color: #434B5C;\n",
              "      box-shadow: 0px 1px 3px 1px rgba(0, 0, 0, 0.15);\n",
              "      filter: drop-shadow(0px 1px 2px rgba(0, 0, 0, 0.3));\n",
              "      fill: #FFFFFF;\n",
              "    }\n",
              "  </style>\n",
              "\n",
              "      <script>\n",
              "        const buttonEl =\n",
              "          document.querySelector('#df-1aedfe1e-1790-4c67-a642-874e50fc62a9 button.colab-df-convert');\n",
              "        buttonEl.style.display =\n",
              "          google.colab.kernel.accessAllowed ? 'block' : 'none';\n",
              "\n",
              "        async function convertToInteractive(key) {\n",
              "          const element = document.querySelector('#df-1aedfe1e-1790-4c67-a642-874e50fc62a9');\n",
              "          const dataTable =\n",
              "            await google.colab.kernel.invokeFunction('convertToInteractive',\n",
              "                                                     [key], {});\n",
              "          if (!dataTable) return;\n",
              "\n",
              "          const docLinkHtml = 'Like what you see? Visit the ' +\n",
              "            '<a target=\"_blank\" href=https://colab.research.google.com/notebooks/data_table.ipynb>data table notebook</a>'\n",
              "            + ' to learn more about interactive tables.';\n",
              "          element.innerHTML = '';\n",
              "          dataTable['output_type'] = 'display_data';\n",
              "          await google.colab.output.renderOutput(dataTable, element);\n",
              "          const docLink = document.createElement('div');\n",
              "          docLink.innerHTML = docLinkHtml;\n",
              "          element.appendChild(docLink);\n",
              "        }\n",
              "      </script>\n",
              "    </div>\n",
              "  </div>\n",
              "  "
            ],
            "text/plain": [
              "   Season  No. in series  ... Guest Details / Notes\n",
              "0     1.0            1.0  ...   0.0             NaN\n",
              "1     1.0            1.0  ...   0.0             NaN\n",
              "2     1.0            1.0  ...   0.0             NaN\n",
              "3     1.0            1.0  ...   0.0             NaN\n",
              "4     1.0            1.0  ...   0.0             NaN\n",
              "\n",
              "[5 rows x 17 columns]"
            ]
          },
          "metadata": {},
          "execution_count": 3
        }
      ]
    },
    {
      "cell_type": "markdown",
      "metadata": {
        "id": "b8FlEYg76AED"
      },
      "source": [
        "Notice that Amount and Equity are currently being treated as categorical variables (`dtype: object`). Can you figure out why this is? Clean up these columns and cast them to numeric types (i.e., a `dtype` of `int` or `float`) because we'll need to perform mathematical operations on these columns."
      ]
    },
    {
      "cell_type": "code",
      "metadata": {
        "id": "F37ulZeb6AEE"
      },
      "source": [
        "# shows up as categorical because of the dollar/percent signs & NaN\n",
        "\n",
        "def remove_dollar(c):\n",
        "  if pd.isna(c):\n",
        "    return c\n",
        "  return c[1:]\n",
        "\n",
        "def remove_percent(c):\n",
        "  if pd.isna(c):\n",
        "    return c\n",
        "  return c[:-1]\n",
        "\n",
        "df_shark[\"Amount\"] = df_shark[\"Amount\"].map(remove_dollar).map(replace_na)\n",
        "df_shark[\"Equity\"] = df_shark[\"Equity\"].map(remove_percent).map(replace_na)\n",
        "\n",
        "df_shark[\"Amount\"].replace(',','', regex=True, inplace=True)\n",
        "\n",
        "df_shark[\"Amount\"] = df_shark[\"Amount\"].astype(int)\n",
        "df_shark[\"Equity\"] = df_shark[\"Equity\"].astype(float)"
      ],
      "execution_count": null,
      "outputs": []
    },
    {
      "cell_type": "markdown",
      "metadata": {
        "id": "zXjBDsQl6AEH"
      },
      "source": [
        "## Question 1. Which Company was Worth the Most?"
      ]
    },
    {
      "cell_type": "markdown",
      "metadata": {
        "id": "dFvKv4QJ6AEI"
      },
      "source": [
        "The valuation of a company is how much it is worth. If someone invests \\$10,000 for a 40% equity stake in the company, then this means the company must be valued at \\$25,000, since 40% of \\$25,000 is \\$10,000.\n",
        "\n",
        "Calculate the valuation of each company that was funded. Which company was most valuable? Is it the same as the company that received the largest total investment from the sharks?"
      ]
    },
    {
      "cell_type": "code",
      "source": [
        "df_shark[\"worth\"] = df_shark[df_shark[\"Equity\"] != 0][\"Amount\"] / (df_shark[\"Equity\"] / 100)\n",
        "df_shark.loc[df_shark[\"worth\"].idxmax()]\n",
        "\n",
        "# Most valuable company is Zipz."
      ],
      "metadata": {
        "colab": {
          "base_uri": "https://localhost:8080/"
        },
        "id": "coaaWkiD-WKU",
        "outputId": "893a0a2c-9970-4bcb-b315-b9577fc513ed"
      },
      "execution_count": null,
      "outputs": [
        {
          "output_type": "execute_result",
          "data": {
            "text/plain": [
              "Season                                                                 6\n",
              "No. in series                                                         11\n",
              "Company                                                             Zipz\n",
              "Deal                                                                 Yes\n",
              "Industry                                               Food and Beverage\n",
              "Entrepreneur Gender                                                 Male\n",
              "Amount                                                           2500000\n",
              "Equity                                                                10\n",
              "Corcoran                                                               0\n",
              "Cuban                                                                  0\n",
              "Greiner                                                                0\n",
              "Herjavec                                                               0\n",
              "John                                                                   0\n",
              "O'Leary                                                                1\n",
              "Harrington                                                             0\n",
              "Guest                                                                  0\n",
              "Details / Notes        with an option for another $2.5 Million for an...\n",
              "worth                                                            2.5e+07\n",
              "num_sharks                                                             1\n",
              "per_shark                                                        2.5e+06\n",
              "Name: 421, dtype: object"
            ]
          },
          "metadata": {},
          "execution_count": 11
        }
      ]
    },
    {
      "cell_type": "code",
      "source": [
        "df_shark.loc[df_shark[\"Amount\"].idxmax()]\n",
        "\n",
        "# It is not the same company that received the largest investment (AirCar)"
      ],
      "metadata": {
        "colab": {
          "base_uri": "https://localhost:8080/"
        },
        "id": "hByq4SqzHDvR",
        "outputId": "20459601-d8d7-4b15-fcdc-154c41a5504c"
      },
      "execution_count": null,
      "outputs": [
        {
          "output_type": "execute_result",
          "data": {
            "text/plain": [
              "Season                                                                 6\n",
              "No. in series                                                         27\n",
              "Company                                                           AirCar\n",
              "Deal                                                                 Yes\n",
              "Industry                                                 Green/CleanTech\n",
              "Entrepreneur Gender                                                 Male\n",
              "Amount                                                           5000000\n",
              "Equity                                                                50\n",
              "Corcoran                                                               0\n",
              "Cuban                                                                  0\n",
              "Greiner                                                                0\n",
              "Herjavec                                                               1\n",
              "John                                                                   0\n",
              "O'Leary                                                                0\n",
              "Harrington                                                             0\n",
              "Guest                                                                  0\n",
              "Details / Notes        Contingent on getting deal to bring to contine...\n",
              "worth                                                              1e+07\n",
              "Name: 483, dtype: object"
            ]
          },
          "metadata": {},
          "execution_count": 6
        }
      ]
    },
    {
      "cell_type": "code",
      "metadata": {
        "id": "Hw6xcTSz6AEJ",
        "colab": {
          "base_uri": "https://localhost:8080/",
          "height": 206
        },
        "outputId": "2e7dfcff-85ca-4091-9d2c-3f7af6b8a177"
      },
      "source": [
        "df_shark[(df_shark[\"Equity\"] == 0) & (df_shark[\"Amount\"] > 0)]\n",
        "\n",
        "# Note: These 5 companies where a deal was struck and equity was 0 for whatever reason were \n",
        "# excluded from worth calculations"
      ],
      "execution_count": null,
      "outputs": [
        {
          "output_type": "execute_result",
          "data": {
            "text/html": [
              "\n",
              "  <div id=\"df-872863dc-ade2-4a0a-8a9c-0e0ec4324244\">\n",
              "    <div class=\"colab-df-container\">\n",
              "      <div>\n",
              "<style scoped>\n",
              "    .dataframe tbody tr th:only-of-type {\n",
              "        vertical-align: middle;\n",
              "    }\n",
              "\n",
              "    .dataframe tbody tr th {\n",
              "        vertical-align: top;\n",
              "    }\n",
              "\n",
              "    .dataframe thead th {\n",
              "        text-align: right;\n",
              "    }\n",
              "</style>\n",
              "<table border=\"1\" class=\"dataframe\">\n",
              "  <thead>\n",
              "    <tr style=\"text-align: right;\">\n",
              "      <th></th>\n",
              "      <th>Season</th>\n",
              "      <th>No. in series</th>\n",
              "      <th>Company</th>\n",
              "      <th>Deal</th>\n",
              "      <th>Industry</th>\n",
              "      <th>Entrepreneur Gender</th>\n",
              "      <th>Amount</th>\n",
              "      <th>Equity</th>\n",
              "      <th>Corcoran</th>\n",
              "      <th>Cuban</th>\n",
              "      <th>Greiner</th>\n",
              "      <th>Herjavec</th>\n",
              "      <th>John</th>\n",
              "      <th>O'Leary</th>\n",
              "      <th>Harrington</th>\n",
              "      <th>Guest</th>\n",
              "      <th>Details / Notes</th>\n",
              "      <th>worth</th>\n",
              "    </tr>\n",
              "  </thead>\n",
              "  <tbody>\n",
              "    <tr>\n",
              "      <th>207</th>\n",
              "      <td>4.0</td>\n",
              "      <td>13.0</td>\n",
              "      <td>Coffee Joulies</td>\n",
              "      <td>Yes</td>\n",
              "      <td>Food and Beverage</td>\n",
              "      <td>Male</td>\n",
              "      <td>150000</td>\n",
              "      <td>0.0</td>\n",
              "      <td>0.0</td>\n",
              "      <td>0.0</td>\n",
              "      <td>1.0</td>\n",
              "      <td>1.0</td>\n",
              "      <td>1.0</td>\n",
              "      <td>1.0</td>\n",
              "      <td>0.0</td>\n",
              "      <td>0.0</td>\n",
              "      <td>plus royalty fee of $6 per Coffee Joulies sold...</td>\n",
              "      <td>NaN</td>\n",
              "    </tr>\n",
              "    <tr>\n",
              "      <th>243</th>\n",
              "      <td>4.0</td>\n",
              "      <td>22.0</td>\n",
              "      <td>Wicked Good Cup Cakes</td>\n",
              "      <td>Yes</td>\n",
              "      <td>Food and Beverage</td>\n",
              "      <td>Female</td>\n",
              "      <td>75000</td>\n",
              "      <td>0.0</td>\n",
              "      <td>0.0</td>\n",
              "      <td>0.0</td>\n",
              "      <td>0.0</td>\n",
              "      <td>0.0</td>\n",
              "      <td>0.0</td>\n",
              "      <td>1.0</td>\n",
              "      <td>0.0</td>\n",
              "      <td>0.0</td>\n",
              "      <td>Zero equity, but $1 royalty until investor get...</td>\n",
              "      <td>NaN</td>\n",
              "    </tr>\n",
              "    <tr>\n",
              "      <th>311</th>\n",
              "      <td>5.0</td>\n",
              "      <td>13.0</td>\n",
              "      <td>GrooveBook</td>\n",
              "      <td>Yes</td>\n",
              "      <td>Software / Tech</td>\n",
              "      <td>Mixed Team</td>\n",
              "      <td>150000</td>\n",
              "      <td>0.0</td>\n",
              "      <td>0.0</td>\n",
              "      <td>1.0</td>\n",
              "      <td>0.0</td>\n",
              "      <td>0.0</td>\n",
              "      <td>0.0</td>\n",
              "      <td>1.0</td>\n",
              "      <td>0.0</td>\n",
              "      <td>0.0</td>\n",
              "      <td>Sold to Shutterfly for $14.5M; deal was for 80...</td>\n",
              "      <td>NaN</td>\n",
              "    </tr>\n",
              "    <tr>\n",
              "      <th>312</th>\n",
              "      <td>5.0</td>\n",
              "      <td>13.0</td>\n",
              "      <td>The Wall DoctoRX</td>\n",
              "      <td>Yes</td>\n",
              "      <td>Lifestyle / Home</td>\n",
              "      <td>Male</td>\n",
              "      <td>150000</td>\n",
              "      <td>0.0</td>\n",
              "      <td>0.0</td>\n",
              "      <td>0.0</td>\n",
              "      <td>0.0</td>\n",
              "      <td>1.0</td>\n",
              "      <td>0.0</td>\n",
              "      <td>0.0</td>\n",
              "      <td>0.0</td>\n",
              "      <td>0.0</td>\n",
              "      <td>exclusive rights to sell internationally</td>\n",
              "      <td>NaN</td>\n",
              "    </tr>\n",
              "    <tr>\n",
              "      <th>399</th>\n",
              "      <td>6.0</td>\n",
              "      <td>6.0</td>\n",
              "      <td>Honeyfund</td>\n",
              "      <td>Yes</td>\n",
              "      <td>Software / Tech</td>\n",
              "      <td>Mixed Team</td>\n",
              "      <td>400000</td>\n",
              "      <td>0.0</td>\n",
              "      <td>0.0</td>\n",
              "      <td>0.0</td>\n",
              "      <td>0.0</td>\n",
              "      <td>0.0</td>\n",
              "      <td>0.0</td>\n",
              "      <td>1.0</td>\n",
              "      <td>0.0</td>\n",
              "      <td>0.0</td>\n",
              "      <td>three times return from the transaction revenue</td>\n",
              "      <td>NaN</td>\n",
              "    </tr>\n",
              "  </tbody>\n",
              "</table>\n",
              "</div>\n",
              "      <button class=\"colab-df-convert\" onclick=\"convertToInteractive('df-872863dc-ade2-4a0a-8a9c-0e0ec4324244')\"\n",
              "              title=\"Convert this dataframe to an interactive table.\"\n",
              "              style=\"display:none;\">\n",
              "        \n",
              "  <svg xmlns=\"http://www.w3.org/2000/svg\" height=\"24px\"viewBox=\"0 0 24 24\"\n",
              "       width=\"24px\">\n",
              "    <path d=\"M0 0h24v24H0V0z\" fill=\"none\"/>\n",
              "    <path d=\"M18.56 5.44l.94 2.06.94-2.06 2.06-.94-2.06-.94-.94-2.06-.94 2.06-2.06.94zm-11 1L8.5 8.5l.94-2.06 2.06-.94-2.06-.94L8.5 2.5l-.94 2.06-2.06.94zm10 10l.94 2.06.94-2.06 2.06-.94-2.06-.94-.94-2.06-.94 2.06-2.06.94z\"/><path d=\"M17.41 7.96l-1.37-1.37c-.4-.4-.92-.59-1.43-.59-.52 0-1.04.2-1.43.59L10.3 9.45l-7.72 7.72c-.78.78-.78 2.05 0 2.83L4 21.41c.39.39.9.59 1.41.59.51 0 1.02-.2 1.41-.59l7.78-7.78 2.81-2.81c.8-.78.8-2.07 0-2.86zM5.41 20L4 18.59l7.72-7.72 1.47 1.35L5.41 20z\"/>\n",
              "  </svg>\n",
              "      </button>\n",
              "      \n",
              "  <style>\n",
              "    .colab-df-container {\n",
              "      display:flex;\n",
              "      flex-wrap:wrap;\n",
              "      gap: 12px;\n",
              "    }\n",
              "\n",
              "    .colab-df-convert {\n",
              "      background-color: #E8F0FE;\n",
              "      border: none;\n",
              "      border-radius: 50%;\n",
              "      cursor: pointer;\n",
              "      display: none;\n",
              "      fill: #1967D2;\n",
              "      height: 32px;\n",
              "      padding: 0 0 0 0;\n",
              "      width: 32px;\n",
              "    }\n",
              "\n",
              "    .colab-df-convert:hover {\n",
              "      background-color: #E2EBFA;\n",
              "      box-shadow: 0px 1px 2px rgba(60, 64, 67, 0.3), 0px 1px 3px 1px rgba(60, 64, 67, 0.15);\n",
              "      fill: #174EA6;\n",
              "    }\n",
              "\n",
              "    [theme=dark] .colab-df-convert {\n",
              "      background-color: #3B4455;\n",
              "      fill: #D2E3FC;\n",
              "    }\n",
              "\n",
              "    [theme=dark] .colab-df-convert:hover {\n",
              "      background-color: #434B5C;\n",
              "      box-shadow: 0px 1px 3px 1px rgba(0, 0, 0, 0.15);\n",
              "      filter: drop-shadow(0px 1px 2px rgba(0, 0, 0, 0.3));\n",
              "      fill: #FFFFFF;\n",
              "    }\n",
              "  </style>\n",
              "\n",
              "      <script>\n",
              "        const buttonEl =\n",
              "          document.querySelector('#df-872863dc-ade2-4a0a-8a9c-0e0ec4324244 button.colab-df-convert');\n",
              "        buttonEl.style.display =\n",
              "          google.colab.kernel.accessAllowed ? 'block' : 'none';\n",
              "\n",
              "        async function convertToInteractive(key) {\n",
              "          const element = document.querySelector('#df-872863dc-ade2-4a0a-8a9c-0e0ec4324244');\n",
              "          const dataTable =\n",
              "            await google.colab.kernel.invokeFunction('convertToInteractive',\n",
              "                                                     [key], {});\n",
              "          if (!dataTable) return;\n",
              "\n",
              "          const docLinkHtml = 'Like what you see? Visit the ' +\n",
              "            '<a target=\"_blank\" href=https://colab.research.google.com/notebooks/data_table.ipynb>data table notebook</a>'\n",
              "            + ' to learn more about interactive tables.';\n",
              "          element.innerHTML = '';\n",
              "          dataTable['output_type'] = 'display_data';\n",
              "          await google.colab.output.renderOutput(dataTable, element);\n",
              "          const docLink = document.createElement('div');\n",
              "          docLink.innerHTML = docLinkHtml;\n",
              "          element.appendChild(docLink);\n",
              "        }\n",
              "      </script>\n",
              "    </div>\n",
              "  </div>\n",
              "  "
            ],
            "text/plain": [
              "     Season  ...  worth\n",
              "207     4.0  ...    NaN\n",
              "243     4.0  ...    NaN\n",
              "311     5.0  ...    NaN\n",
              "312     5.0  ...    NaN\n",
              "399     6.0  ...    NaN\n",
              "\n",
              "[5 rows x 18 columns]"
            ]
          },
          "metadata": {},
          "execution_count": 7
        }
      ]
    },
    {
      "cell_type": "markdown",
      "metadata": {
        "id": "ADyYjzcf6AEM"
      },
      "source": [
        "## Question 2. Which Shark Invested the Most?"
      ]
    },
    {
      "cell_type": "markdown",
      "metadata": {
        "id": "Q1aeyu6v6AEM"
      },
      "source": [
        "Calculate the total amount of money that each shark invested over the 6 seasons. Which shark invested the most total money over the 6 seasons?\n",
        "\n",
        "_Hint:_ If $n$ sharks funded a given venture, then the amount that each shark invested is the total amount divided by $n$."
      ]
    },
    {
      "cell_type": "code",
      "metadata": {
        "id": "a5MrleWP6AEN",
        "colab": {
          "base_uri": "https://localhost:8080/"
        },
        "outputId": "aa8bf080-7f2e-4a5e-d399-100d51d578ee"
      },
      "source": [
        "def num_sharks(c):\n",
        "  sum = 0\n",
        "  for shark in sharklist:\n",
        "    sum += df_shark[shark]\n",
        "  return sum\n",
        "\n",
        "df_shark[\"num_sharks\"] = num_sharks(df_shark)\n",
        "df_shark[\"per_shark\"] = df_shark[\"Amount\"] / df_shark[\"num_sharks\"]\n",
        "\n",
        "big_investor = []\n",
        "\n",
        "for shark in sharklist:\n",
        "  big_investor.append((shark, df_shark[df_shark[shark] == 1.0][\"per_shark\"].sum()))\n",
        "\n",
        "big_investor.sort(key=lambda x:x[1], reverse=True) # sort by second value\n",
        "big_investor\n",
        "\n",
        "# Mark Cuban is the biggest investor"
      ],
      "execution_count": null,
      "outputs": [
        {
          "output_type": "execute_result",
          "data": {
            "text/plain": [
              "[('Cuban', 17817500.0),\n",
              " ('Herjavec', 16297500.0),\n",
              " ('Greiner', 8170000.0),\n",
              " ('John', 8154000.0),\n",
              " (\"O'Leary\", 7952500.0),\n",
              " ('Corcoran', 4912500.0),\n",
              " ('Harrington', 800000.0),\n",
              " ('Guest', 400000.0)]"
            ]
          },
          "metadata": {},
          "execution_count": 8
        }
      ]
    },
    {
      "cell_type": "markdown",
      "metadata": {
        "id": "0YCCe77s6AEQ"
      },
      "source": [
        "## Question 3. Do the Sharks Prefer Certain Industries?\n",
        "\n",
        "Calculate the funding rate (the proportion of companies that were funded) for each industry. Make a visualization showing this information."
      ]
    },
    {
      "cell_type": "code",
      "metadata": {
        "id": "bM_rL2Og6AER",
        "colab": {
          "base_uri": "https://localhost:8080/",
          "height": 387
        },
        "outputId": "ad7cf1e7-dabd-4bf8-fdbb-03764dffc230"
      },
      "source": [
        "df_shark_funded = df_shark[df_shark[\"Deal\"] == \"Yes\"]\n",
        "\n",
        "funded = df_shark_funded[\"Industry\"].value_counts() \n",
        "total = df_shark[\"Industry\"].value_counts() # total\n",
        "\n",
        "(funded/total).sort_values().plot.bar() # funding rate\n",
        "# make a pie chart for this with the percentages"
      ],
      "execution_count": null,
      "outputs": [
        {
          "output_type": "execute_result",
          "data": {
            "text/plain": [
              "<matplotlib.axes._subplots.AxesSubplot at 0x7fabb1e63850>"
            ]
          },
          "metadata": {},
          "execution_count": 19
        },
        {
          "output_type": "display_data",
          "data": {
            "image/png": "[encoded data removed]",
            "text/plain": [
              "<Figure size 432x288 with 1 Axes>"
            ]
          },
          "metadata": {
            "needs_background": "light"
          }
        }
      ]
    },
    {
      "cell_type": "markdown",
      "metadata": {
        "id": "hWkCOchf6AEU"
      },
      "source": [
        "## Submission Instructions\n",
        "\n",
        "- Copy this notebook to your own Drive, if you have not already.\n",
        "- Restart this notebook and run the cells from beginning to end. \n",
        "  - Go to Runtime > Restart and Run All.\n",
        "- Rename this notebook by clicking on \"DATA 301 Lab 2A - YOUR NAMES HERE\" at the very top of this page. Replace \"YOUR NAMES HERE\" with the first and last names of you (and your partners, for Phase 2).\n",
        "- Get the link to your notebook:\n",
        "  - Click on \"Share\" at the top-right. \n",
        "  - Change the settings to \"Anyone with the link can view\". \n",
        "  - Copy the sharing link into Canvas."
      ]
    }
  ]
}
